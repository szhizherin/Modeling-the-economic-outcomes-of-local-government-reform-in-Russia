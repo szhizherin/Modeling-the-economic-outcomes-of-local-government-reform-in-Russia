{
 "cells": [
  {
   "cell_type": "code",
   "execution_count": 1,
   "id": "f230e883",
   "metadata": {},
   "outputs": [],
   "source": [
    "import pandas as pd"
   ]
  },
  {
   "cell_type": "code",
   "execution_count": 25,
   "id": "5c31c124",
   "metadata": {},
   "outputs": [],
   "source": [
    "part1 = pd.DataFrame(columns=[\"municipality\", \"Всего учрежедний\", \"Общая информация\", \"Информация о госзадании\",\n",
    "                          \"Показатели качества услуг\", \"Показатели объёма услуг\", \n",
    "                          \"Информация о ПФХД или показателях бюджетной сметы\", \"Общий Рейтинг\"])\n",
    "\n",
    "for i in range(1, 106):\n",
    "    name = \"openness_rating_2012-2018/part1/rating (\" + str(i) + \").xls\"\n",
    "    year = 2018 - i%7\n",
    "    cur = pd.read_excel(name, \n",
    "                   skiprows=7, index_col=0, header=None, \n",
    "                   names=[\"municipality\", \"Всего учрежедний\", \"Общая информация\", \"Информация о госзадании\",\n",
    "                          \"Показатели качества услуг\", \"Показатели объёма услуг\", \n",
    "                          \"Информация о ПФХД или показателях бюджетной сметы\", \"Общий Рейтинг\"])\n",
    "    cur[\"year\"] = year\n",
    "    part1 = pd.concat([part1, cur], ignore_index=True)"
   ]
  },
  {
   "cell_type": "code",
   "execution_count": 27,
   "id": "94433c6a",
   "metadata": {},
   "outputs": [],
   "source": [
    "part2 = pd.DataFrame(columns=[\"municipality\", \"Всего учрежедний\", \"Общая информация\", \"Информация о госзадании\",\n",
    "                          \"Показатели качества услуг\", \"Показатели объёма услуг\", \n",
    "                          \"Информация о ПФХД или показателях бюджетной сметы\", \"Общий Рейтинг\"])\n",
    "\n",
    "for i in range(1, 99):\n",
    "    name = \"openness_rating_2012-2018/part2/rating (\" + str(i) + \").xls\"\n",
    "    year = 2018 - i%7\n",
    "    cur = pd.read_excel(name, \n",
    "                   skiprows=7, index_col=0, header=None, \n",
    "                   names=[\"municipality\", \"Всего учрежедний\", \"Общая информация\", \"Информация о госзадании\",\n",
    "                          \"Показатели качества услуг\", \"Показатели объёма услуг\", \n",
    "                          \"Информация о ПФХД или показателях бюджетной сметы\", \"Общий Рейтинг\"])\n",
    "    cur[\"year\"] = year\n",
    "    part2 = pd.concat([part2, cur], ignore_index=True)"
   ]
  },
  {
   "cell_type": "code",
   "execution_count": 30,
   "id": "08f965bf",
   "metadata": {},
   "outputs": [],
   "source": [
    "part3 = pd.DataFrame(columns=[\"municipality\", \"Всего учрежедний\", \"Общая информация\", \"Информация о госзадании\",\n",
    "                          \"Показатели качества услуг\", \"Показатели объёма услуг\", \n",
    "                          \"Информация о ПФХД или показателях бюджетной сметы\", \"Общий Рейтинг\"])\n",
    "\n",
    "for i in range(1, 99):\n",
    "    name = \"openness_rating_2012-2018/part3/rating (\" + str(i) + \").xls\"\n",
    "    year = 2018 - i%7\n",
    "    cur = pd.read_excel(name, \n",
    "                   skiprows=7, index_col=0, header=None, \n",
    "                   names=[\"municipality\", \"Всего учрежедний\", \"Общая информация\", \"Информация о госзадании\",\n",
    "                          \"Показатели качества услуг\", \"Показатели объёма услуг\", \n",
    "                          \"Информация о ПФХД или показателях бюджетной сметы\", \"Общий Рейтинг\"])\n",
    "    cur[\"year\"] = year\n",
    "    part3 = pd.concat([part3, cur], ignore_index=True)"
   ]
  },
  {
   "cell_type": "code",
   "execution_count": 32,
   "id": "e49081a1",
   "metadata": {},
   "outputs": [],
   "source": [
    "part4 = pd.DataFrame(columns=[\"municipality\", \"Всего учрежедний\", \"Общая информация\", \"Информация о госзадании\",\n",
    "                          \"Показатели качества услуг\", \"Показатели объёма услуг\", \n",
    "                          \"Информация о ПФХД или показателях бюджетной сметы\", \"Общий Рейтинг\"])\n",
    "\n",
    "for i in range(1, 99):\n",
    "    name = \"openness_rating_2012-2018/part4/rating (\" + str(i) + \").xls\"\n",
    "    year = 2018 - i%7\n",
    "    cur = pd.read_excel(name, \n",
    "                   skiprows=7, index_col=0, header=None, \n",
    "                   names=[\"municipality\", \"Всего учрежедний\", \"Общая информация\", \"Информация о госзадании\",\n",
    "                          \"Показатели качества услуг\", \"Показатели объёма услуг\", \n",
    "                          \"Информация о ПФХД или показателях бюджетной сметы\", \"Общий Рейтинг\"])\n",
    "    cur[\"year\"] = year\n",
    "    part4 = pd.concat([part4, cur], ignore_index=True)"
   ]
  },
  {
   "cell_type": "code",
   "execution_count": 34,
   "id": "ef037ed0",
   "metadata": {},
   "outputs": [],
   "source": [
    "part5 = pd.DataFrame(columns=[\"municipality\", \"Всего учрежедний\", \"Общая информация\", \"Информация о госзадании\",\n",
    "                          \"Показатели качества услуг\", \"Показатели объёма услуг\", \n",
    "                          \"Информация о ПФХД или показателях бюджетной сметы\", \"Общий Рейтинг\"])\n",
    "\n",
    "for i in range(1, 99):\n",
    "    name = \"openness_rating_2012-2018/part5/rating (\" + str(i) + \").xls\"\n",
    "    year = 2018 - i%7\n",
    "    cur = pd.read_excel(name, \n",
    "                   skiprows=7, index_col=0, header=None, \n",
    "                   names=[\"municipality\", \"Всего учрежедний\", \"Общая информация\", \"Информация о госзадании\",\n",
    "                          \"Показатели качества услуг\", \"Показатели объёма услуг\", \n",
    "                          \"Информация о ПФХД или показателях бюджетной сметы\", \"Общий Рейтинг\"])\n",
    "    cur[\"year\"] = year\n",
    "    part5 = pd.concat([part5, cur], ignore_index=True)"
   ]
  },
  {
   "cell_type": "code",
   "execution_count": 36,
   "id": "f1dbda9c",
   "metadata": {},
   "outputs": [],
   "source": [
    "part6 = pd.DataFrame(columns=[\"municipality\", \"Всего учрежедний\", \"Общая информация\", \"Информация о госзадании\",\n",
    "                          \"Показатели качества услуг\", \"Показатели объёма услуг\", \n",
    "                          \"Информация о ПФХД или показателях бюджетной сметы\", \"Общий Рейтинг\"])\n",
    "\n",
    "for i in range(1, 36):\n",
    "    name = \"openness_rating_2012-2018/part6/rating (\" + str(i) + \").xls\"\n",
    "    year = 2018 - i%7\n",
    "    cur = pd.read_excel(name, \n",
    "                   skiprows=7, index_col=0, header=None, \n",
    "                   names=[\"municipality\", \"Всего учрежедний\", \"Общая информация\", \"Информация о госзадании\",\n",
    "                          \"Показатели качества услуг\", \"Показатели объёма услуг\", \n",
    "                          \"Информация о ПФХД или показателях бюджетной сметы\", \"Общий Рейтинг\"])\n",
    "    cur[\"year\"] = year\n",
    "    part6 = pd.concat([part6, cur], ignore_index=True)"
   ]
  },
  {
   "cell_type": "code",
   "execution_count": 40,
   "id": "67cf6043",
   "metadata": {},
   "outputs": [],
   "source": [
    "raw_openness = pd.concat([part1, part2, part3, part4, part5, part6], \n",
    "                         ignore_index=True).sort_values(by=[\"municipality\", \"year\"])"
   ]
  },
  {
   "cell_type": "code",
   "execution_count": 42,
   "id": "161784dc",
   "metadata": {},
   "outputs": [],
   "source": [
    "raw_openness.to_excel(\"raw_openness.xlsx\", index=False)"
   ]
  }
 ],
 "metadata": {
  "kernelspec": {
   "display_name": "Python 3 (ipykernel)",
   "language": "python",
   "name": "python3"
  },
  "language_info": {
   "codemirror_mode": {
    "name": "ipython",
    "version": 3
   },
   "file_extension": ".py",
   "mimetype": "text/x-python",
   "name": "python",
   "nbconvert_exporter": "python",
   "pygments_lexer": "ipython3",
   "version": "3.9.12"
  }
 },
 "nbformat": 4,
 "nbformat_minor": 5
}
